{
  "nbformat": 4,
  "nbformat_minor": 0,
  "metadata": {
    "colab": {
      "provenance": []
    },
    "kernelspec": {
      "name": "python3",
      "display_name": "Python 3"
    },
    "language_info": {
      "name": "python"
    }
  },
  "cells": [
    {
      "cell_type": "markdown",
      "source": [
        "#### **Step 1: Install libraries**"
      ],
      "metadata": {
        "id": "xpI-26MQzAU8"
      }
    },
    {
      "cell_type": "code",
      "execution_count": null,
      "metadata": {
        "id": "ljSt5ShnZFuT"
      },
      "outputs": [],
      "source": [
        "!pip install smolagents\n",
        "!pip install smolagents[litellm]\n",
        "!pip install gradio\n",
        "!pip install pypdf\n",
        "!pip install python-docx\n",
        "!sudo apt install python3-gdbm"
      ]
    },
    {
      "cell_type": "markdown",
      "source": [
        "#### **Step 2: Clone repository**"
      ],
      "metadata": {
        "id": "sn7zZBOho-EJ"
      }
    },
    {
      "cell_type": "code",
      "source": [
        "!git clone https://github.com/NSTiwari/AI-Agents-ML-Chandigarh.git"
      ],
      "metadata": {
        "id": "XDdOrCRQpCFY"
      },
      "execution_count": null,
      "outputs": []
    },
    {
      "cell_type": "markdown",
      "source": [
        "#### **Step 3: Configure HF Token**"
      ],
      "metadata": {
        "id": "D7LBlQRDzDb1"
      }
    },
    {
      "cell_type": "code",
      "source": [
        "import os\n",
        "from google.colab import userdata\n",
        "\n",
        "os.environ[\"HF_TOKEN\"] = userdata.get('HF_TOKEN')\n",
        "GEMINI_API_KEY = userdata.get('gemini')\n",
        "\n",
        "base_path = \"/content/AI-Agents-ML-Chandigarh\""
      ],
      "metadata": {
        "id": "yee06KOKKr5_"
      },
      "execution_count": null,
      "outputs": []
    },
    {
      "cell_type": "markdown",
      "source": [
        "Login using HF CLI (optional)"
      ],
      "metadata": {
        "id": "9oDYq5yDj8QQ"
      }
    },
    {
      "cell_type": "code",
      "source": [
        "!huggingface-cli login"
      ],
      "metadata": {
        "id": "1pjjqnB6ZIsS"
      },
      "execution_count": null,
      "outputs": []
    },
    {
      "cell_type": "markdown",
      "source": [
        "#### **Example 1a: Simple agent using open model**"
      ],
      "metadata": {
        "id": "7Bf9A-AWTQ90"
      }
    },
    {
      "cell_type": "code",
      "source": [
        "from smolagents import HfApiModel, CodeAgent\n",
        "\n",
        "# Default model is Qwen/Qwen2.5-Coder-32B-Instruct.\n",
        "model = HfApiModel()\n",
        "\n",
        "agent = CodeAgent(\n",
        "    tools=[],\n",
        "    model=model,\n",
        ")\n",
        "\n",
        "agent.run(\"When was the last time India won the T20 World Cup? Against which team?\")"
      ],
      "metadata": {
        "id": "JbmhS0ZMTT7c"
      },
      "execution_count": null,
      "outputs": []
    },
    {
      "cell_type": "markdown",
      "source": [
        "#### **Example 1b: Simple agent with grounding using DuckDuckGo search engine**"
      ],
      "metadata": {
        "id": "M-Bh1nXKkGJP"
      }
    },
    {
      "cell_type": "code",
      "source": [
        "from smolagents import HfApiModel, CodeAgent, DuckDuckGoSearchTool\n",
        "\n",
        "model = HfApiModel()\n",
        "\n",
        "agent = CodeAgent(\n",
        "    tools=[DuckDuckGoSearchTool()],\n",
        "    model=model,\n",
        ")\n",
        "\n",
        "agent.run(\"When was the last time India won the T20 World Cup? Against which team?\")"
      ],
      "metadata": {
        "id": "SoKF5sMTkLng"
      },
      "execution_count": null,
      "outputs": []
    },
    {
      "cell_type": "markdown",
      "source": [
        "#### **Example 2: Agent that analyzes images with a proprietory model using LiteLLM**"
      ],
      "metadata": {
        "id": "YPXo-39OzNbz"
      }
    },
    {
      "cell_type": "code",
      "source": [
        "from PIL import Image\n",
        "image = Image.open(f\"{base_path}/image.jpg\")\n",
        "display(image)"
      ],
      "metadata": {
        "id": "4Wn2mZNknIog"
      },
      "execution_count": null,
      "outputs": []
    },
    {
      "cell_type": "code",
      "source": [
        "from smolagents import HfApiModel, CodeAgent, DuckDuckGoSearchTool, LiteLLMModel\n",
        "\n",
        "model = LiteLLMModel(\n",
        "    model_id=\"gemini/gemini-2.0-flash-exp\",\n",
        "    api_key = GEMINI_API_KEY\n",
        ")\n",
        "\n",
        "agent = CodeAgent(\n",
        "    tools=[DuckDuckGoSearchTool()],\n",
        "    model=model,\n",
        ")\n",
        "\n",
        "agent.run(\"Describe this image\", images = [image])"
      ],
      "metadata": {
        "id": "gY3NbnuTG1Df"
      },
      "execution_count": null,
      "outputs": []
    },
    {
      "cell_type": "markdown",
      "source": [
        "#### **Example 3: Agent that solves your assignment, and submits it to your professor via an email**\n",
        "\n",
        "*Note: You'll need to enable 2FA for your Gmail account and create a Google Apps password to send emails via SMTP.*"
      ],
      "metadata": {
        "id": "zOyc6rJ_UPUL"
      }
    },
    {
      "cell_type": "code",
      "source": [
        "from smolagents import HfApiModel, CodeAgent, DuckDuckGoSearchTool, LiteLLMModel, tool\n",
        "\n",
        "from pypdf import PdfReader\n",
        "import smtplib\n",
        "from email.mime.text import MIMEText\n",
        "from email.mime.multipart import MIMEMultipart\n",
        "from email.mime.base import MIMEBase\n",
        "from email import encoders\n",
        "\n",
        "\n",
        "@tool\n",
        "def read_pdf_file(file_path: str) -> str:\n",
        "    \"\"\"\n",
        "    This function reads the first three pages of a PDF file and returns its content as a string.\n",
        "    Args:\n",
        "        file_path: The path to the PDF file.\n",
        "    Returns:\n",
        "        A string containing the content of the PDF file.\n",
        "    \"\"\"\n",
        "    content = \"\"\n",
        "    reader = PdfReader(f\"{file_path}\")\n",
        "    print(len(reader.pages))\n",
        "    pages = reader.pages[:3]\n",
        "    for page in pages:\n",
        "        content += page.extract_text()\n",
        "    return content\n",
        "\n",
        "@tool\n",
        "def send_email(file_path: str, subject: str, body: str, receiver_email: str) -> str:\n",
        "    \"\"\"This function reads an input file and sends an email to the recipient with an attachment.\n",
        "    Args:\n",
        "        file_path: The path to the attachment.\n",
        "        receiver_email: The receiver's email address.\n",
        "        subject: The email subject.\n",
        "        body: The email body.\n",
        "    Returns:\n",
        "        A text whether the email was sent successfully.\n",
        "    \"\"\"\n",
        "\n",
        "    sender_email = userdata.get('EMAIL')\n",
        "    sender_password = userdata.get('PASSWORD')\n",
        "\n",
        "    # Create the message.\n",
        "    msg = MIMEMultipart()\n",
        "    msg['From'] = sender_email\n",
        "    msg['To'] = receiver_email\n",
        "    msg['Subject'] = subject\n",
        "\n",
        "    # Attach the body of the email.\n",
        "    msg.attach(MIMEText(body, 'plain'))\n",
        "\n",
        "    # Attach the file.\n",
        "    try:\n",
        "        with open(file_path, 'rb') as attachment:\n",
        "            part = MIMEBase('application', 'octet-stream')\n",
        "            part.set_payload(attachment.read())\n",
        "            encoders.encode_base64(part)  # Encode file in base64\n",
        "            part.add_header('Content-Disposition', f'attachment; filename={file_path.split(\"/\")[-1]}')\n",
        "            msg.attach(part)\n",
        "    except Exception as e:\n",
        "        print(f\"Error attaching file: {e}\")\n",
        "\n",
        "    try:\n",
        "        with smtplib.SMTP('smtp.gmail.com', 587) as server:\n",
        "            server.starttls()  # Secure the connection\n",
        "            server.login(sender_email, sender_password)\n",
        "            server.sendmail(sender_email, receiver_email, msg.as_string())\n",
        "            print(\"Email sent successfully\")\n",
        "    except Exception as e:\n",
        "        print(f\"Error: unable to send email. {e}\")\n",
        "\n",
        "    return \"Email sent\"\n",
        "\n",
        "\n",
        "model = LiteLLMModel(\n",
        "    model_id=\"gemini/gemini-2.0-flash-exp\",\n",
        "    api_key = GEMINI_API_KEY\n",
        ")\n",
        "\n",
        "\n",
        "agent = CodeAgent(\n",
        "    tools=[read_pdf_file, send_email],\n",
        "    model=model,\n",
        "    additional_authorized_imports=[\"pypdf\", \"docx\"]\n",
        ")\n",
        "\n",
        "\n",
        "agent.run(\"\"\"Please load the source file. This is an assignment that I need to submit by answering some questions below:\n",
        "            1. What is the chemical formula of Magnesium Oxide?\n",
        "            2. List the different daily life examples given in the PDF.\n",
        "            3. Summarize what is the chapter about?\n",
        "            Save the answers to these questions in a .docx file in current directory using the \"docx\" library.\n",
        "            Additionally, write my details such as name {} roll number (501757), subject name, and submission date (today's date).\n",
        "            Also, provide an undertaking confirming that all the work is original and done by me.\n",
        "            Finally, send an email of the saved document as an attachment to {} using the send_email tool.\"\"\",\n",
        "\n",
        "          additional_args=dict(source_file=f\"{base_path}/Science_Class_X.pdf\"))"
      ],
      "metadata": {
        "id": "-DaiiAQMzdjD"
      },
      "execution_count": null,
      "outputs": []
    },
    {
      "cell_type": "markdown",
      "source": [
        "#### **Example 4: Data Analyst that analyzes cricket matches (IPL)**"
      ],
      "metadata": {
        "id": "9n48c_SOPj17"
      }
    },
    {
      "cell_type": "code",
      "source": [
        "from smolagents import HfApiModel, CodeAgent\n",
        "model = HfApiModel()\n",
        "\n",
        "agent = CodeAgent(\n",
        "    tools=[],\n",
        "    model=model,\n",
        "    additional_authorized_imports=[\"numpy\", \"pandas\", \"matplotlib.pyplot\", \"seaborn\", \"os\", \"PIL\"]\n",
        ")\n",
        "\n",
        "\n",
        "analysis = agent.run(\n",
        "    \"\"\"You are an expert Data Analyst.\n",
        "Please load the source file and analyze its content and answer the questions below.\n",
        "1. How many matches did Mumbai Indians win?\n",
        "2. Which team won the match by highest number of runs? What was the date, and it was played between which two teams?\n",
        "3. How many teams played in the tournament? List them.\n",
        "\n",
        "Finally, make some relevant visualizations of different types (barchart, piechart, etc.) using matplotlib and save them in the current directory.\n",
        "\"\"\",\n",
        "    additional_args=dict(source_file=f\"{base_path}/matches.csv\"),\n",
        ")"
      ],
      "metadata": {
        "id": "jXXBv7HgZf6-"
      },
      "execution_count": null,
      "outputs": []
    },
    {
      "cell_type": "markdown",
      "source": [
        "#### **Example 5: Image Generation by importing a Hugging Face Space as tool**"
      ],
      "metadata": {
        "id": "CunTyU33Pmny"
      }
    },
    {
      "cell_type": "code",
      "source": [
        "from smolagents import CodeAgent, HfApiModel, Tool\n",
        "\n",
        "image_generation_tool = Tool.from_space(\n",
        "    \"black-forest-labs/FLUX.1-dev\",\n",
        "    name=\"image_generator\",\n",
        "    description=\"Generate an image from a prompt\"\n",
        ")\n",
        "\n",
        "image_generation_tool(\"A sunny beach\")\n",
        "\n",
        "\n",
        "model = HfApiModel(\"Qwen/Qwen2.5-Coder-32B-Instruct\")\n",
        "agent = CodeAgent(tools=[image_generation_tool],\n",
        "                  model=model,\n",
        "                  additional_authorized_imports=[\"io\", \"PIL\"])\n",
        "\n",
        "agent.run(\n",
        "    \"Improve this prompt, then generate its image and save a copy of it in the current directory as a .JPG file using PIL library.\",\n",
        "    additional_args={'user_prompt': 'Cherry Blossom in Japan.'}\n",
        ")"
      ],
      "metadata": {
        "id": "zMz8MQW655ha"
      },
      "execution_count": null,
      "outputs": []
    }
  ]
}